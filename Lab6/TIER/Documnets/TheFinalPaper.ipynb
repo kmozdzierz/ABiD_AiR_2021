{
 "cells": [
  {
   "cell_type": "markdown",
   "metadata": {},
   "source": [
    "# The final paper\n",
    "\n",
    "# Conclusions and hypothestises:\n",
    "\n",
    "1. The most numerous group of respondents are people in the age group 31-40 (for both genders)\n",
    "\n",
    "2. Decidedly, more women than men took part in the study.\n",
    "\n",
    "3. The biggest percent of women (30.4%) have chosen devices produced by Tefal.\n",
    "In group of men - Samsung was the most frequently (26.7%) chosen brand.\n",
    "\n",
    "4. Women are the least likely to choose Beko vacuum cleaners, same as in case of men.\n",
    "\n",
    "5. On the other hand - Beko company's devices got the highest average grades in 3 age groups - 31-40, 41-50, 61-70.\n",
    "\n",
    "6. Among women - the best-rated brand was the Beko company, and in the case of men - Samsung.\n",
    "\n",
    "7. In gerneral (without division on brand), the highest average ratings of product in age group 61-70, but in this group we have one of the lowest percentages of respondents. \n",
    "\n",
    "8. The highest ratings (based on average) were given 12 days after purchase. We also observe high value for 16 days after purchase, but it is based on only 3 answers - so we cannot assume it as realy reliable.\n",
    "\n",
    "9. KDE - The distribution of the ratings given in the study is similar to the normal distribution.\n",
    "\n",
    "\n",
    "\n"
   ]
  }
 ],
 "metadata": {
  "language_info": {
   "name": "python"
  },
  "orig_nbformat": 4
 },
 "nbformat": 4,
 "nbformat_minor": 2
}
