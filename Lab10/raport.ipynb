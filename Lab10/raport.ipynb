{
 "cells": [
  {
   "cell_type": "markdown",
   "metadata": {},
   "source": [
    "# TEMAT №10 Szeregi czasowe (ang. time series)\n",
    "\n",
    " \n",
    " ### Czym są szeregi czasowe? \n",
    " Szereg czasowy jest zbiorem obserwacji dokonywanych w równych odstępach czasu. \n",
    " Służy do przewidywania przyszlych wartości w oparciu o poprzednie obserwacje, do których zalicza się;\n",
    " - prognozowania biznesowe (kursy walut, giełda...)\n",
    " - zrozumienia przeszlych zachowań i zaobserwowania przyszlych;\n",
    " - oszacowanie bieżących osiągnięć.\n",
    " \n",
    " Do analizy i prognozowania szeregów czasowych w Python stosowano bibliotekę  statsmodels.tsa.api, która zawiera modele i metody szeregów czasowych. Importowane kanonicznie przy użyciu importu statsmodels.tsa.api jako tsa.\n",
    "API skupia się na modelach i najczęściej używanych testach statystycznych oraz narzędziach. Ścieżki importu i struktura wyjaśnia projekt dwóch modułów API i jak importowanie z API różni się od bezpośredniego importowania z modułu, w którym zdefiniowany jest model. Więcej informacji znajdziesz w dokumentacji https://www.statsmodels.org/stable/api.html. \n",
    "##### Podstawowe komponenty szeregów czasowych:\n",
    "- trend\n",
    "- sezonowość\n",
    "- cykliczność\n",
    "#### Co to jest Stacjonarność?\n",
    "Szereg czasowy jest stacjonarny gdy z biegiem czasu zachowuje sie w sposów szczególny, istnieje bardzo duże prawdopodobieństwo, że w przyszlości będę postepować tak samo.\n",
    "#### Sprawdzić szereg na stacjonarność można za pomocą:\n",
    "- Rozszerzonego testu Dickeya-Fullera (ADF)\n",
    "- Przekształcenia logarytmicznego (Box-Cox)\n",
    "- Dekompozycji trendu sezonowego\n",
    "- Usuwania trendów poprzez różnicowanie\n",
    "- Naprawiania niestałej wariancji + usuwanie trendu.\n",
    "#### Co wskazuje że szereg jest stacjonarnym:\n",
    "- stała średnia;\n",
    "- stala wariancja;\n",
    "- autokowariancja jest niezależna od czasu.\n",
    "\n"
   ]
  },
  {
   "cell_type": "markdown",
   "metadata": {},
   "source": [
    "## Czym jest autoregresja? \n",
    "Podstawowa koncepcja polega na tym, że prognozujemy interesujące szeregi czasowe y  zakładając, że mają one liniową zależność z innymi szeregami czasowymi x.\n",
    "Autoregresja – to jest regresja statystyczna w której zmienna objaśniana jest przyszłą wartością ciągu, a zmienna objaśniająca to wartości ciągu czasowego z przeszłości. \n",
    "Zmienna prognozowana y jest nazywana także zależną lub objaśnianą. Zmienne predyktorów x są nazywane zmiennymi niezależnymi lub objaśniającymi.\n",
    "Na przykład możemy prognozować miesięczną sprzedaż y, korzystając z całkowitych wydatków na reklamę x jako predyktora. Albo możemy prognozować dzienne zapotrzebowanie na energię elektryczną y używając temperatury x1 i dnia tygodnia x2 jako predyktorów.\n",
    "\n",
    "###  Najczęściej stosowane modele statystyczne do prognozowania szeregów czasowych\n",
    "\n",
    "#### - Wygładzanie wykładnicze \n",
    "Metoda obróbki szeregu czasowego zmniejszająca jego wariancję za pomocą ważonej średniej ruchomej z przeszłych wartości, o wagach malejących wykładniczo wraz z odległością w czasie. Stosowana do prostego usuwania szumu lub wizualizacji różnych danych. Jest również przydatna w prognozowaniu szeregów czasowych o niewielkim stosunku sygnału do szumu, szczególnie niemających wyraźnego trendu i wahań sezonowych.\n",
    "\n",
    "\n",
    "#### - AR (model autoregresyjny)\n",
    "Modele, w których bieżące wartości szeregu wyrażają się jako liniowe funkcje poprzednich obserwacji, nazywają się modelami autoregresji. Jeżeli bieżąca wartość ciągu xn zależy liniowo tylko od jednej poprzedniej wartości x_(n-1), to taki model jest modelem autoregresji pierwszego rzędu, co oznaczamy jako AR(1). Jeżeli bieżąca wartość ciągu xn zależy liniowo od p poprzednich wartości xn-1,…,xn-p, to taki model jest modelem autoregresji rzędu p, AR(p). \n",
    "\n",
    "\n",
    "#### - MA (model średniej ruchomej)\n",
    "Proces ze średnią ruchomą, jest regresją liniową bieżącej wartości szeregów w odniesieniu do poprzednich wartości błędu, związanych z białym szumem lub przypadkowymi zaburzeniami. Zakłada się, że takie przypadkowe zaburzenia w każdym z punktów pochodzą z tego samego rozkładu, zwykle rozkładu normalnego z zerową wartością oczekiwaną i stałą wariancją. \n",
    "\n",
    "\n",
    "#### - ARMA (model autoregresji ze średnią ruchomą)-  obejmuje dwa proste modele ciągów czasowych AR oraz MA. \n",
    "Użyteczność modeli ARMA polega na ich oszczędnej reprezentacji. Podobnie jak w przypadku AR i MA, właściwości modeli ARMA można zwykle scharakteryzować za pomocą ich funkcji autokorelacji. Modele ARMA są używane do opisu stacjonarnych ciągów czasowych. Także niektóre rodzaje niestacjonarności można sprowadzać do procesów stacjonarnych przez tworzenie procesów różnic i dalej stosować np.  modele ARMA.\n",
    "\n",
    "\n",
    "#### - ARIMA (zintegrowany model autoregresji ze średnią ruchomą)\n",
    "jest złożony z następujących elementów: autoregresja (AR), całkowanie (I) oraz średnia ruchoma (MA). ARIMA jest formą analizy regresji, która mierzy siłę jednej zmiennej zależnej w stosunku do innych zmiennych. Model ten jest szeroko stosowany do prognozowania przyszłych wartości danych, badając różnice między wartościami w ciągach zamiast wartości oryginalnych. Modele zintegrowane służą do opisów procesów stochastycznych niestacjonarnych.\n",
    "ARIMA z parametrami p, d i q, gdzie:\n",
    "p - liczba opóźnień obserwacji w modelu.\n",
    "d - stopień różnicy.\n",
    "q - zakres średniej ruchomej.\n",
    "\n",
    "\n",
    "## Dobór modelu\n",
    "\n",
    "#### 1. Test ADF (rozszerzony test Dickeya-Fullera)\n",
    "Dla sprawdzenia stacjonarności ciągu robimy analizę za pomocą rozszerzonego testu Dickeya Fullera (ADF). Przy analizie testu ADF warto zwrócić uwagę, że hipoteza zerowa wskazuje na istnienia niestacjonarności. Jeżeli obliczona wartość p jest mniejsza od zadanej alfa, to ta hipoteza zerowa zostaje odrzucona, a ciąg  jest stacjonarny. W przeciwnym razie dane są niestacjonarne.\n",
    "\n",
    "#### 2. ACF i PACF \n",
    "\n",
    "Autokorelacja i autokorelacja cząstkowa to miary związków między bieżącymi i przeszłymi wartościami szeregów określające, które przeszłe wartości szeregów są najbardziej użyteczne przy przewidywaniu przyszłych wartości. Dzięki tej wiedzy można określić kolejność procesów w modelu ARIMA. Dokładniej rzecz ujmując:\n",
    "\n",
    "##### Funkcja autokorelacji (ACF).\n",
    "Przy przesunięciu k jest to korelacja między wartościami szeregu oddalonymi o k przedziałów od siebie.\n",
    "Występuje wtedy, gdy skutki działania zmienności losowej nie wygasają w danym okresie t, lecz są przenoszone na okresy przyszłe. \n",
    "plot_acf()\n",
    "http://drizzt.home.amu.edu.pl/images/DADA/W7.pdf\n",
    "\n",
    "##### Funkcja autokorelacji cząstkowej (PACF). \n",
    "jak sama nazwa wskazuje, PACF jest podzbiorem funkcji autokorelacji (ACF). Przy przesunięciu k jest to korelacja między wartościami szeregu oddalonymi o k przedziałów od siebie, z jednoczesną rejestracją wartości z przedziałów znajdujących się pomiędzy.\n",
    "ACF i PACF stosowane są do wyboru rzędu modeli.  PACF pokazuje zależność między xn a poprzednimi wartościami, pomijając wpływ pośrednich opóźnień.\n",
    "plot_pacf()\n",
    "\n",
    "Oś x wykresu ACF wskazuje przesunięcie, dla jakiego obliczana jest autokorelacja; oś y wskazuje wartość korelacji (między −1 a 1). Na przykład linia rzutowania przy przesunięciu wynoszącym 1 na wykresie ACF oznacza silną korelację między każdą wartością szeregu a wartością poprzedzającą, zaś linia rzutowania przy przesunięciu wynoszącym 2 oznacza silną korelację między każdą wartością a wartością występującą dwa punkty wcześniej itd.\n",
    "Korelacja dodatnia oznacza, że duże wartości bieżące odpowiadają dużym wartościom dla danego przesunięcia; ujemna korelacja oznacza, że duże wartości bieżące odpowiadają niewielkim wartościom dla danego przesunięcia.\n",
    "Wartość bezwzględna korelacji stanowi miarę siły powiązania, przy czym większe wartości bezwzględne oznaczają silniejsze relacje.\n",
    "\n",
    "#### 3. AIC (kryterium informacyjne Akaikego)\n",
    "jest estymatorem błędu predykcji w próbie, a tym samym względnej jakości modeli statystycznych dla danego zbioru danych. Jest to jeden ze wskaźników dopasowania modelu, który stosuje się do wyznaczenia miary jakości modeli statystycznych dla badanego zbioru danych. To jak błąd średniokwadratowy w autoregresji — im mniejsza liczba, tym lepiej jest dopasowany model. Na ogół model o większej liczbie predyktorów (parametrów) daje dokładniejsze przewidywania, ponadto ma większą skłonność do przeuczenia. Kryteria informacyjne są nazywane metodami porównywania modeli dla zmiennej zależnej, i stosowane są do wyboru najlepszego modelu.\n",
    "\n"
   ]
  },
  {
   "cell_type": "markdown",
   "metadata": {},
   "source": [
    "## Biblioteki\n",
    "\n",
    "- pip install numpy scipy scikit-learn  #--- to the anaconda terminal\n",
    "- pip install --user pmdarima   #---installing auto-arima\n",
    "- pip install -U statsmodels   #---instaling  statsmodels\n",
    "- import pandas as pd\n",
    "- from pandas import DataFrame\n",
    "- import datetime \n",
    "- from matplotlib import pyplot\n",
    "- import matplotlib.pyplot as plt\n",
    "- from statsmodels.tsa.stattools import adfuller\n",
    "- from statsmodels.graphics.tsaplots import plot_acf, plot_pacf\n",
    "- from statsmodels.tsa.arima.model import ARIMA\n",
    "- import pmdarima as pm\n",
    "- from pmdarima import model_selection\n",
    "- import numpy as np\n",
    "- %matplotlib inline\n"
   ]
  },
  {
   "cell_type": "markdown",
   "metadata": {},
   "source": [
    "# Zadanie do ćwiczenia   \n",
    "### Na podstawie danych zawartych w pliku analiza.csv wykonaj następne punkty:\n",
    "#### 1) Zaimportój niezbędne biblioteki do szeregów czasowych (https://www.statsmodels.org/stable/api.html), a także biblioteki do operacji na danych oraz tworzenia wykresów.\n",
    "#### 2) Odczytaj dane z pliku analiza.csv. Pomocne w interpretacji danych są metody: head(), describe(), len(), shape.\n",
    "#### 3) Wykonaj wstępny wykres uzyskanych danych (typu \"scatter\") https://miroslawmamczur.pl/006-wykres-rozrzutu-scatter-plot/\n",
    "#### 4) Oblicz ADF (p-value, 'ADF Statistic)\n",
    "#### 5) Wykonaj wykres ACF\n",
    "#### 6) Wykonaj wykres PACF\n",
    "#### 7) Podzieł szereg na dane na treningowe i testowe oraz oblicz kryterium  AIC dla modelu ARIMA (3,0.1) (results.summary())\n",
    "#### 8) Za pomocą funkcji AUTO-ARIMA dobierz najlepszy model dla prognozy.\n",
    "#### 9) Zrób wykreś do prognozy\n",
    "#### 10) Wnioski"
   ]
  },
  {
   "cell_type": "markdown",
   "metadata": {},
   "source": [
    "# Rozwiązanie "
   ]
  },
  {
   "cell_type": "markdown",
   "metadata": {},
   "source": [
    "###  1) Zaimportój niezbędne biblioteki do szeregów czasowych a także biblioteki do operacji na danych oraz tworzenia wykresów\n"
   ]
  },
  {
   "cell_type": "code",
   "execution_count": 15,
   "metadata": {},
   "outputs": [],
   "source": [
    "import numpy as np\n",
    "from pmdarima import model_selection\n",
    "import pmdarima as pm\n",
    "import pandas as pd\n",
    "from pandas import DataFrame\n",
    "import datetime\n",
    "from matplotlib import pyplot\n",
    "import matplotlib.pyplot as plt\n",
    "from statsmodels.tsa.stattools import adfuller\n",
    "from statsmodels.graphics.tsaplots import plot_acf, plot_pacf\n",
    "from statsmodels.tsa.arima.model import ARIMA\n",
    "%matplotlib inline\n",
    "import warnings\n",
    "warnings.filterwarnings('ignore')\n"
   ]
  },
  {
   "cell_type": "markdown",
   "metadata": {},
   "source": [
    "### 2) Odczytaj dane z pliku analiza.csv. Pomocne w interpretacji danych są metody: head(), describe(), len(), shape.\n"
   ]
  },
  {
   "cell_type": "code",
   "execution_count": 16,
   "metadata": {},
   "outputs": [
    {
     "data": {
      "text/html": [
       "<div>\n",
       "<style scoped>\n",
       "    .dataframe tbody tr th:only-of-type {\n",
       "        vertical-align: middle;\n",
       "    }\n",
       "\n",
       "    .dataframe tbody tr th {\n",
       "        vertical-align: top;\n",
       "    }\n",
       "\n",
       "    .dataframe thead th {\n",
       "        text-align: right;\n",
       "    }\n",
       "</style>\n",
       "<table border=\"1\" class=\"dataframe\">\n",
       "  <thead>\n",
       "    <tr style=\"text-align: right;\">\n",
       "      <th></th>\n",
       "      <th>Data</th>\n",
       "      <th>Rezerwacja</th>\n",
       "    </tr>\n",
       "    <tr>\n",
       "      <th>time_col</th>\n",
       "      <th></th>\n",
       "      <th></th>\n",
       "    </tr>\n",
       "  </thead>\n",
       "  <tbody>\n",
       "    <tr>\n",
       "      <th>1949-01-01</th>\n",
       "      <td>1949-01</td>\n",
       "      <td>112</td>\n",
       "    </tr>\n",
       "    <tr>\n",
       "      <th>1949-02-01</th>\n",
       "      <td>1949-02</td>\n",
       "      <td>118</td>\n",
       "    </tr>\n",
       "    <tr>\n",
       "      <th>1949-03-01</th>\n",
       "      <td>1949-03</td>\n",
       "      <td>132</td>\n",
       "    </tr>\n",
       "    <tr>\n",
       "      <th>1949-04-01</th>\n",
       "      <td>1949-04</td>\n",
       "      <td>129</td>\n",
       "    </tr>\n",
       "    <tr>\n",
       "      <th>1949-05-01</th>\n",
       "      <td>1949-05</td>\n",
       "      <td>121</td>\n",
       "    </tr>\n",
       "    <tr>\n",
       "      <th>1949-06-01</th>\n",
       "      <td>1949-06</td>\n",
       "      <td>135</td>\n",
       "    </tr>\n",
       "    <tr>\n",
       "      <th>1949-07-01</th>\n",
       "      <td>1949-07</td>\n",
       "      <td>148</td>\n",
       "    </tr>\n",
       "  </tbody>\n",
       "</table>\n",
       "</div>"
      ],
      "text/plain": [
       "               Data  Rezerwacja\n",
       "time_col                       \n",
       "1949-01-01  1949-01         112\n",
       "1949-02-01  1949-02         118\n",
       "1949-03-01  1949-03         132\n",
       "1949-04-01  1949-04         129\n",
       "1949-05-01  1949-05         121\n",
       "1949-06-01  1949-06         135\n",
       "1949-07-01  1949-07         148"
      ]
     },
     "execution_count": 16,
     "metadata": {},
     "output_type": "execute_result"
    }
   ],
   "source": [
    "import pandas \n",
    "df_analiza =pandas.read_csv(\"analiza.csv\", sep = \",\", decimal = \",\")\n",
    "df_analiza['time_col'] = pd.to_datetime(df_analiza['Data'])\n",
    "df_analiza = df_analiza.set_index('time_col')\n",
    "df_analiza.head(7)\n",
    "\n"
   ]
  },
  {
   "cell_type": "code",
   "execution_count": 17,
   "metadata": {},
   "outputs": [
    {
     "data": {
      "text/plain": [
       "144"
      ]
     },
     "execution_count": 17,
     "metadata": {},
     "output_type": "execute_result"
    }
   ],
   "source": [
    "len(df_analiza)"
   ]
  },
  {
   "cell_type": "code",
   "execution_count": 18,
   "metadata": {},
   "outputs": [
    {
     "data": {
      "text/html": [
       "<div>\n",
       "<style scoped>\n",
       "    .dataframe tbody tr th:only-of-type {\n",
       "        vertical-align: middle;\n",
       "    }\n",
       "\n",
       "    .dataframe tbody tr th {\n",
       "        vertical-align: top;\n",
       "    }\n",
       "\n",
       "    .dataframe thead th {\n",
       "        text-align: right;\n",
       "    }\n",
       "</style>\n",
       "<table border=\"1\" class=\"dataframe\">\n",
       "  <thead>\n",
       "    <tr style=\"text-align: right;\">\n",
       "      <th></th>\n",
       "      <th>Rezerwacja</th>\n",
       "    </tr>\n",
       "  </thead>\n",
       "  <tbody>\n",
       "    <tr>\n",
       "      <th>count</th>\n",
       "      <td>144.000000</td>\n",
       "    </tr>\n",
       "    <tr>\n",
       "      <th>mean</th>\n",
       "      <td>280.298611</td>\n",
       "    </tr>\n",
       "    <tr>\n",
       "      <th>std</th>\n",
       "      <td>119.966317</td>\n",
       "    </tr>\n",
       "    <tr>\n",
       "      <th>min</th>\n",
       "      <td>104.000000</td>\n",
       "    </tr>\n",
       "    <tr>\n",
       "      <th>25%</th>\n",
       "      <td>180.000000</td>\n",
       "    </tr>\n",
       "    <tr>\n",
       "      <th>50%</th>\n",
       "      <td>265.500000</td>\n",
       "    </tr>\n",
       "    <tr>\n",
       "      <th>75%</th>\n",
       "      <td>360.500000</td>\n",
       "    </tr>\n",
       "    <tr>\n",
       "      <th>max</th>\n",
       "      <td>622.000000</td>\n",
       "    </tr>\n",
       "  </tbody>\n",
       "</table>\n",
       "</div>"
      ],
      "text/plain": [
       "       Rezerwacja\n",
       "count  144.000000\n",
       "mean   280.298611\n",
       "std    119.966317\n",
       "min    104.000000\n",
       "25%    180.000000\n",
       "50%    265.500000\n",
       "75%    360.500000\n",
       "max    622.000000"
      ]
     },
     "execution_count": 18,
     "metadata": {},
     "output_type": "execute_result"
    }
   ],
   "source": [
    "df_analiza.describe()"
   ]
  },
  {
   "cell_type": "code",
   "execution_count": 19,
   "metadata": {},
   "outputs": [
    {
     "data": {
      "text/plain": [
       "(144, 2)"
      ]
     },
     "execution_count": 19,
     "metadata": {},
     "output_type": "execute_result"
    }
   ],
   "source": [
    "df_analiza.shape"
   ]
  },
  {
   "cell_type": "markdown",
   "metadata": {},
   "source": [
    "### 3) Wykonaj wstępny wykres uzyskanych danych \n"
   ]
  },
  {
   "cell_type": "code",
   "execution_count": 20,
   "metadata": {},
   "outputs": [
    {
     "data": {
      "text/html": [
       "<div>\n",
       "<style scoped>\n",
       "    .dataframe tbody tr th:only-of-type {\n",
       "        vertical-align: middle;\n",
       "    }\n",
       "\n",
       "    .dataframe tbody tr th {\n",
       "        vertical-align: top;\n",
       "    }\n",
       "\n",
       "    .dataframe thead th {\n",
       "        text-align: right;\n",
       "    }\n",
       "</style>\n",
       "<table border=\"1\" class=\"dataframe\">\n",
       "  <thead>\n",
       "    <tr style=\"text-align: right;\">\n",
       "      <th></th>\n",
       "      <th>Rezerwacja</th>\n",
       "    </tr>\n",
       "    <tr>\n",
       "      <th>time_col</th>\n",
       "      <th></th>\n",
       "    </tr>\n",
       "  </thead>\n",
       "  <tbody>\n",
       "    <tr>\n",
       "      <th>1949-01-01</th>\n",
       "      <td>112</td>\n",
       "    </tr>\n",
       "    <tr>\n",
       "      <th>1949-02-01</th>\n",
       "      <td>118</td>\n",
       "    </tr>\n",
       "    <tr>\n",
       "      <th>1949-03-01</th>\n",
       "      <td>132</td>\n",
       "    </tr>\n",
       "    <tr>\n",
       "      <th>1949-04-01</th>\n",
       "      <td>129</td>\n",
       "    </tr>\n",
       "    <tr>\n",
       "      <th>1949-05-01</th>\n",
       "      <td>121</td>\n",
       "    </tr>\n",
       "  </tbody>\n",
       "</table>\n",
       "</div>"
      ],
      "text/plain": [
       "            Rezerwacja\n",
       "time_col              \n",
       "1949-01-01         112\n",
       "1949-02-01         118\n",
       "1949-03-01         132\n",
       "1949-04-01         129\n",
       "1949-05-01         121"
      ]
     },
     "execution_count": 20,
     "metadata": {},
     "output_type": "execute_result"
    }
   ],
   "source": [
    "df_analiza= df_analiza[['Rezerwacja']]\n",
    "df_analiza.head()\n"
   ]
  },
  {
   "cell_type": "code",
   "execution_count": 21,
   "metadata": {},
   "outputs": [
    {
     "data": {
      "image/png": "[encoded data removed]",
      "text/plain": [
       "<Figure size 432x288 with 1 Axes>"
      ]
     },
     "metadata": {
      "needs_background": "light"
     },
     "output_type": "display_data"
    }
   ],
   "source": [
    "plt.plot(df_analiza)\n",
    "plt.title(\"Rezerwacje na przestrzeni lat\")\n",
    "plt.show()\n"
   ]
  },
  {
   "cell_type": "markdown",
   "metadata": {},
   "source": [
    "### 4) Oblicz ADF"
   ]
  },
  {
   "cell_type": "code",
   "execution_count": 22,
   "metadata": {},
   "outputs": [
    {
     "name": "stdout",
     "output_type": "stream",
     "text": [
      "ADF: 0.815369\n",
      "p-value: 0.991880\n"
     ]
    }
   ],
   "source": [
    "#ADF rozszerzony Test Dickeya-Fullera dla sprawdzenia stacjonarności\n",
    "\n",
    "from pandas import read_csv\n",
    "from statsmodels.tsa.stattools import adfuller\n",
    "\n",
    "result = adfuller(df_analiza)\n",
    "print('ADF: %f' % result[0])\n",
    "print('p-value: %f' % result[1])"
   ]
  },
  {
   "cell_type": "markdown",
   "metadata": {},
   "source": [
    "### 5) Wykonaj wykres ACF\n"
   ]
  },
  {
   "cell_type": "code",
   "execution_count": 23,
   "metadata": {},
   "outputs": [
    {
     "data": {
      "image/png": "[encoded data removed]",
      "text/plain": [
       "<Figure size 432x288 with 1 Axes>"
      ]
     },
     "metadata": {
      "needs_background": "light"
     },
     "output_type": "display_data"
    }
   ],
   "source": [
    "#ACF wykres funkcji autokorelacji \n",
    "from statsmodels.graphics.tsaplots import plot_acf\n",
    "\n",
    "plot_acf(df_analiza,zero=False, lags=10)\n",
    "plt.show()\n"
   ]
  },
  {
   "cell_type": "markdown",
   "metadata": {},
   "source": [
    "### 6) Wykonaj wykres PACF\n"
   ]
  },
  {
   "cell_type": "code",
   "execution_count": 24,
   "metadata": {},
   "outputs": [
    {
     "data": {
      "image/png": "[encoded data removed]",
      "text/plain": [
       "<Figure size 432x288 with 1 Axes>"
      ]
     },
     "metadata": {
      "needs_background": "light"
     },
     "output_type": "display_data"
    }
   ],
   "source": [
    "#PACF - wykres częsciowej funkcji autokorelacji\n",
    "from statsmodels.graphics.tsaplots import plot_pacf\n",
    "\n",
    "plot_pacf(df_analiza,zero=False, lags=10)\n",
    "plt.show()"
   ]
  },
  {
   "cell_type": "markdown",
   "metadata": {},
   "source": [
    "### 7) Podzieł szereg na dane treningowe i testowe wędlug uznania oraz oblicz kryterium  AIC dla modelu ARIMA (3,0,1) (results.summary())"
   ]
  },
  {
   "cell_type": "code",
   "execution_count": 25,
   "metadata": {},
   "outputs": [
    {
     "name": "stdout",
     "output_type": "stream",
     "text": [
      "                               SARIMAX Results                                \n",
      "==============================================================================\n",
      "Dep. Variable:             Rezerwacja   No. Observations:                  106\n",
      "Model:                 ARIMA(3, 0, 1)   Log Likelihood                -483.726\n",
      "Date:                Sun, 26 Dec 2021   AIC                            979.452\n",
      "Time:                        17:30:07   BIC                            995.432\n",
      "Sample:                    01-01-1949   HQIC                           985.929\n",
      "                         - 10-01-1957                                         \n",
      "Covariance Type:                  opg                                         \n",
      "==============================================================================\n",
      "                 coef    std err          z      P>|z|      [0.025      0.975]\n",
      "------------------------------------------------------------------------------\n",
      "const        229.2032     41.783      5.486      0.000     147.311     311.096\n",
      "ar.L1          0.4709      0.122      3.866      0.000       0.232       0.710\n",
      "ar.L2          0.5572      0.150      3.710      0.000       0.263       0.852\n",
      "ar.L3         -0.1220      0.102     -1.190      0.234      -0.323       0.079\n",
      "ma.L1          0.9317      0.060     15.546      0.000       0.814       1.049\n",
      "sigma2       521.0119     89.706      5.808      0.000     345.191     696.833\n",
      "===================================================================================\n",
      "Ljung-Box (L1) (Q):                   0.00   Jarque-Bera (JB):                 4.00\n",
      "Prob(Q):                              1.00   Prob(JB):                         0.14\n",
      "Heteroskedasticity (H):               3.88   Skew:                             0.41\n",
      "Prob(H) (two-sided):                  0.00   Kurtosis:                         2.52\n",
      "===================================================================================\n",
      "\n",
      "Warnings:\n",
      "[1] Covariance matrix calculated using the outer product of gradients (complex-step).\n"
     ]
    }
   ],
   "source": [
    "#ARIMA\n",
    "X = df_analiza\n",
    "train = X.iloc[0:106] # dane treningowe\n",
    "test = X.iloc[106:]  #dane testowe\n",
    "model = ARIMA(train, order=(3,0,1))\n",
    "results = model.fit()\n",
    "print(results.summary())"
   ]
  },
  {
   "cell_type": "markdown",
   "metadata": {},
   "source": [
    "Wartość AIC zwrócona dla modelu ARIMA (3,0,1) wynosi AIC = 979.452"
   ]
  },
  {
   "cell_type": "markdown",
   "metadata": {},
   "source": [
    "### 8) Za pomocą funkcji AUTO-ARIMA dobierz najlepszy model dla prognozy."
   ]
  },
  {
   "cell_type": "code",
   "execution_count": 26,
   "metadata": {},
   "outputs": [
    {
     "name": "stdout",
     "output_type": "stream",
     "text": [
      "Performing stepwise search to minimize aic\n",
      " ARIMA(1,1,1)(1,1,1)[12]             : AIC=693.513, Time=0.25 sec\n",
      " ARIMA(0,1,0)(0,1,0)[12]             : AIC=694.203, Time=0.01 sec\n",
      " ARIMA(1,1,0)(1,1,0)[12]             : AIC=690.179, Time=0.06 sec\n",
      " ARIMA(0,1,1)(0,1,1)[12]             : AIC=690.593, Time=0.08 sec\n",
      " ARIMA(1,1,0)(0,1,0)[12]             : AIC=690.040, Time=0.04 sec\n",
      " ARIMA(1,1,0)(0,1,1)[12]             : AIC=690.477, Time=0.08 sec\n",
      " ARIMA(1,1,0)(1,1,1)[12]             : AIC=691.996, Time=0.14 sec\n",
      " ARIMA(2,1,0)(0,1,0)[12]             : AIC=691.917, Time=0.04 sec\n",
      " ARIMA(1,1,1)(0,1,0)[12]             : AIC=691.455, Time=0.05 sec\n",
      " ARIMA(0,1,1)(0,1,0)[12]             : AIC=690.190, Time=0.03 sec\n",
      " ARIMA(2,1,1)(0,1,0)[12]             : AIC=693.402, Time=0.08 sec\n",
      " ARIMA(1,1,0)(0,1,0)[12] intercept   : AIC=691.769, Time=0.07 sec\n",
      "\n",
      "Best model:  ARIMA(1,1,0)(0,1,0)[12]          \n",
      "Total fit time: 0.965 seconds\n",
      "                                     SARIMAX Results                                      \n",
      "==========================================================================================\n",
      "Dep. Variable:                                  y   No. Observations:                  106\n",
      "Model:             SARIMAX(1, 1, 0)x(0, 1, 0, 12)   Log Likelihood                -343.020\n",
      "Date:                            Sun, 26 Dec 2021   AIC                            690.040\n",
      "Time:                                    17:30:08   BIC                            695.105\n",
      "Sample:                                         0   HQIC                           692.085\n",
      "                                            - 106                                         \n",
      "Covariance Type:                              opg                                         \n",
      "==============================================================================\n",
      "                 coef    std err          z      P>|z|      [0.025      0.975]\n",
      "------------------------------------------------------------------------------\n",
      "ar.L1         -0.2530      0.092     -2.751      0.006      -0.433      -0.073\n",
      "sigma2        93.5204     13.683      6.835      0.000      66.702     120.339\n",
      "===================================================================================\n",
      "Ljung-Box (L1) (Q):                   0.00   Jarque-Bera (JB):                 1.91\n",
      "Prob(Q):                              0.97   Prob(JB):                         0.38\n",
      "Heteroskedasticity (H):               0.99   Skew:                             0.35\n",
      "Prob(H) (two-sided):                  0.97   Kurtosis:                         2.95\n",
      "===================================================================================\n",
      "\n",
      "Warnings:\n",
      "[1] Covariance matrix calculated using the outer product of gradients (complex-step).\n"
     ]
    }
   ],
   "source": [
    "#AUTO-ARIMA\n",
    "res=pm.auto_arima(y=train, start_p=1, d=1, start_q=1, max_p=5, max_d=5, max_q=5, m=12, seasonal=True, trace=True, error_action='ignore', suppress_warning=True)\n",
    "\n",
    "print(res.summary())\n",
    "\n"
   ]
  },
  {
   "cell_type": "markdown",
   "metadata": {},
   "source": [
    "#### **Wniosek:** \n",
    "\n",
    "Funkcja AUTO-ARIMA dobrała najlepszy model ARIMA(1,1,0)(0,1,0,12) na podstawie kryterium minimalizacji parametru AIC. Dla wybranego najlepszego modelu AIC=690.040 . \n",
    "\n",
    "W wywołaniu funkcji, zgodnie z sugestią dokumentacji użyto parametru m=12, odnoszący się do okresu różnicowania sezonowego. W naszym przypadku posiadamy dane miesięczne, zatem wartość parametru powinna wynosić m=12."
   ]
  },
  {
   "cell_type": "markdown",
   "metadata": {},
   "source": [
    "# Wykonaj wykres prognozy"
   ]
  },
  {
   "cell_type": "code",
   "execution_count": 27,
   "metadata": {},
   "outputs": [],
   "source": [
    "model = ARIMA(train, order=(1,1,0), seasonal_order=(0,1,0,12))\n",
    "results = model.fit()\n",
    "\n",
    "fcast = results.get_forecast(steps=40)\n",
    "mean_fcast = fcast.predicted_mean\n",
    "conf_int = fcast.conf_int()"
   ]
  },
  {
   "cell_type": "code",
   "execution_count": 28,
   "metadata": {},
   "outputs": [
    {
     "data": {
      "image/png": "[encoded data removed]",
      "text/plain": [
       "<Figure size 432x288 with 1 Axes>"
      ]
     },
     "metadata": {
      "needs_background": "light"
     },
     "output_type": "display_data"
    }
   ],
   "source": [
    "df_analiza.iloc[70:,:].plot(color='k')\n",
    "mean_fcast.plot(color ='g')\n",
    "\n",
    "plt.fill_between(conf_int.index, conf_int['lower Rezerwacja'], conf_int['upper Rezerwacja'], color='lightgreen')\n",
    "plt.legend([\"Dane rzeczywiste\", \"Predykcja\",\"Przedział ufoności\"])\n",
    "plt.title(\"Porównanie danych rzeczywistych\\n z przewidywanymi\")\n",
    "plt.show()"
   ]
  },
  {
   "cell_type": "markdown",
   "metadata": {},
   "source": [
    "## Wnioski\n",
    "\n",
    "Dane przedwidziane przez model predykcyjny ARIMA dla wybranego zbioru treningowego dość poprawnie pokrywają się za danymi rzeczywistymi, zatem wynik można uznać za zadowalający. Można zaobserwować, że wraz ze wzrostem kroku (długości) prognozy jej przedział ufności wzrasta - tym samym dokładność przewidywań spada. "
   ]
  }
 ],
 "metadata": {
  "kernelspec": {
   "display_name": "Python 3",
   "language": "python",
   "name": "python3"
  },
  "language_info": {
   "codemirror_mode": {
    "name": "ipython",
    "version": 3
   },
   "file_extension": ".py",
   "mimetype": "text/x-python",
   "name": "python",
   "nbconvert_exporter": "python",
   "pygments_lexer": "ipython3",
   "version": "3.9.4"
  }
 },
 "nbformat": 4,
 "nbformat_minor": 4
}
